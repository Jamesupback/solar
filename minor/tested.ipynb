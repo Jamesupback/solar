{
 "cells": [
  {
   "cell_type": "code",
   "execution_count": 1,
   "metadata": {},
   "outputs": [
    {
     "name": "stderr",
     "output_type": "stream",
     "text": [
      "C:\\Users\\james\\AppData\\Local\\Packages\\PythonSoftwareFoundation.Python.3.11_qbz5n2kfra8p0\\LocalCache\\local-packages\\Python311\\site-packages\\statsmodels\\tsa\\base\\tsa_model.py:473: ValueWarning: A date index has been provided, but it has no associated frequency information and so will be ignored when e.g. forecasting.\n",
      "  self._init_dates(dates, freq)\n",
      "C:\\Users\\james\\AppData\\Local\\Packages\\PythonSoftwareFoundation.Python.3.11_qbz5n2kfra8p0\\LocalCache\\local-packages\\Python311\\site-packages\\statsmodels\\tsa\\base\\tsa_model.py:473: ValueWarning: A date index has been provided, but it is not monotonic and so will be ignored when e.g. forecasting.\n",
      "  self._init_dates(dates, freq)\n",
      "C:\\Users\\james\\AppData\\Local\\Packages\\PythonSoftwareFoundation.Python.3.11_qbz5n2kfra8p0\\LocalCache\\local-packages\\Python311\\site-packages\\statsmodels\\tsa\\base\\tsa_model.py:473: ValueWarning: A date index has been provided, but it has no associated frequency information and so will be ignored when e.g. forecasting.\n",
      "  self._init_dates(dates, freq)\n",
      "C:\\Users\\james\\AppData\\Local\\Packages\\PythonSoftwareFoundation.Python.3.11_qbz5n2kfra8p0\\LocalCache\\local-packages\\Python311\\site-packages\\statsmodels\\tsa\\base\\tsa_model.py:473: ValueWarning: A date index has been provided, but it is not monotonic and so will be ignored when e.g. forecasting.\n",
      "  self._init_dates(dates, freq)\n"
     ]
    }
   ],
   "source": [
    "import pandas as pd\n",
    "import numpy as np\n",
    "from statsmodels.tsa.statespace.sarimax import SARIMAX\n",
    "from sklearn.model_selection import train_test_split\n",
    "from sklearn.preprocessing import StandardScaler\n",
    "import matplotlib.pyplot as plt\n",
    "\n",
    "# Load the data\n",
    "df = pd.read_csv('solar_weather.csv')\n",
    "\n",
    "# Convert 'Time' column to datetime\n",
    "df['Time'] = pd.to_datetime(df['Time'])\n",
    "df.set_index('Time', inplace=True)\n",
    "\n",
    "# Select features for the model\n",
    "features = ['GHI', 'temp', 'pressure', 'humidity', 'wind_speed', 'rain_1h', 'snow_1h', 'clouds_all', 'isSun', 'sunlightTime', 'dayLength', 'SunlightTime/daylength', 'weather_type', 'hour', 'month']\n",
    "X = df[features]\n",
    "y = df['Energy delta[Wh]']\n",
    "\n",
    "# Split the data into training and testing sets\n",
    "X_train, X_test, y_train, y_test = train_test_split(X, y, test_size=0.2, random_state=42)\n",
    "\n",
    "# Standardize the features\n",
    "scaler = StandardScaler()\n",
    "X_train_scaled = scaler.fit_transform(X_train)\n",
    "X_test_scaled = scaler.transform(X_test)\n",
    "\n",
    "# Fit the SARIMAX model\n",
    "# You may need to adjust the order and seasonal_order parameters based on your data\n",
    "model = SARIMAX(y_train, exog=X_train_scaled, order=(1, 1, 1), seasonal_order=(1, 1, 1, 24))\n",
    "results = model.fit()\n",
    "\n",
    "# Make predictions\n",
    "predictions = results.forecast(steps=len(X_test), exog=X_test_scaled)\n",
    "\n",
    "# Calculate RMSE\n",
    "rmse = np.sqrt(((predictions - y_test) ** 2).mean())\n",
    "print(f\"Root Mean Square Error: {rmse}\")\n",
    "\n",
    "# Plot the results\n",
    "plt.figure(figsize=(12, 6))\n",
    "plt.plot(y_test.index, y_test.values, label='Actual')\n",
    "plt.plot(y_test.index, predictions, label='Predicted')\n",
    "plt.title('Energy Delta: Actual vs Predicted')\n",
    "plt.xlabel('Time')\n",
    "plt.ylabel('Energy Delta [Wh]')\n",
    "plt.legend()\n",
    "plt.show()\n",
    "\n",
    "# Forecast for the next 6 years\n",
    "future_dates = pd.date_range(start=df.index[-1], periods=6*365*24, freq='H')\n",
    "future_exog = pd.DataFrame(index=future_dates, columns=features)\n",
    "\n",
    "# Fill the future exogenous variables (you may need to adjust this based on your data)\n",
    "future_exog['hour'] = future_dates.hour\n",
    "future_exog['month'] = future_dates.month\n",
    "# Fill other columns with appropriate values or use time series forecasting for each feature\n",
    "\n",
    "# Scale the future exogenous variables\n",
    "future_exog_scaled = scaler.transform(future_exog)\n",
    "\n",
    "# Make predictions for the next 6 years\n",
    "future_predictions = results.forecast(steps=len(future_exog), exog=future_exog_scaled)\n",
    "\n",
    "# Plot the future predictions\n",
    "plt.figure(figsize=(12, 6))\n",
    "plt.plot(future_dates, future_predictions)\n",
    "plt.title('Energy Delta Forecast for Next 6 Years')\n",
    "plt.xlabel('Time')\n",
    "plt.ylabel('Energy Delta [Wh]')\n",
    "plt.show()"
   ]
  }
 ],
 "metadata": {
  "kernelspec": {
   "display_name": "Python 3",
   "language": "python",
   "name": "python3"
  },
  "language_info": {
   "codemirror_mode": {
    "name": "ipython",
    "version": 3
   },
   "file_extension": ".py",
   "mimetype": "text/x-python",
   "name": "python",
   "nbconvert_exporter": "python",
   "pygments_lexer": "ipython3",
   "version": "3.11.9"
  }
 },
 "nbformat": 4,
 "nbformat_minor": 2
}
